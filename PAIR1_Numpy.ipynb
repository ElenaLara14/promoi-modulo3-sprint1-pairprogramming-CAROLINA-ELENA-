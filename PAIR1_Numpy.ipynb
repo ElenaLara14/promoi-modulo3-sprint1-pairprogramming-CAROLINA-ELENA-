{
 "cells": [
  {
   "cell_type": "code",
   "execution_count": 2,
   "metadata": {},
   "outputs": [],
   "source": [
    "# antes de empezar importamos la librería de NumPy para poder trabajar con todos sus métodos. \n",
    "import numpy as np"
   ]
  },
  {
   "cell_type": "markdown",
   "metadata": {},
   "source": [
    "# Pair Numpy\n",
    "## Creación y Indexación:\n",
    "Crea un array 1D con 50 valores aleatorio del 10 al 99. Accede a los elementos en las posiciones múltiplos de 5.\n",
    "\n",
    "Crea un array 1D con 30 valores del 1 al 20 (ambos incluidos). Utiliza indexación para obtener los elementos en las posiciones impares.\n",
    "\n",
    "Crea un array 2D de forma (4, 6) con números aleatorios decimales (no deben estar comprendidos solo entre 0 y 1). Accede a la última fila de la matriz. Los decimales deben estar redondeados a 2 decimales."
   ]
  },
  {
   "cell_type": "code",
   "execution_count": 16,
   "metadata": {},
   "outputs": [
    {
     "name": "stdout",
     "output_type": "stream",
     "text": [
      "[93 47 29 80 12 73 64 79 32 96 68 43 16 74 68 79 56 76 94 80 31 11 46 46\n",
      " 37 88 33 71 51 85 83 89 26 79 78 92 46 52 14 97 76 47 60 68 32 75 26 19\n",
      " 27 50]\n"
     ]
    }
   ],
   "source": [
    "array1= np.random.randint(10,99,50)\n",
    "print(array1)"
   ]
  },
  {
   "cell_type": "code",
   "execution_count": 17,
   "metadata": {},
   "outputs": [
    {
     "data": {
      "text/plain": [
       "array([93, 73, 68, 79, 31, 88, 83, 92, 76, 75])"
      ]
     },
     "execution_count": 17,
     "metadata": {},
     "output_type": "execute_result"
    }
   ],
   "source": [
    "array1[::5]\n"
   ]
  },
  {
   "cell_type": "code",
   "execution_count": 19,
   "metadata": {},
   "outputs": [
    {
     "name": "stdout",
     "output_type": "stream",
     "text": [
      "[ 2 10 10  2 14 12  3 19  9 13 17  5  1 18  5 14 12 17 16 19  8  7 13 15\n",
      " 18 13  5  8 12 12]\n"
     ]
    }
   ],
   "source": [
    "# Ejercicio 2\n",
    "array1= np.random.randint(1,20,30)\n",
    "print(array1)"
   ]
  },
  {
   "cell_type": "code",
   "execution_count": 20,
   "metadata": {},
   "outputs": [
    {
     "data": {
      "text/plain": [
       "array([ 2, 10, 14,  3,  9, 17,  1,  5, 12, 16,  8, 13, 18,  5, 12])"
      ]
     },
     "execution_count": 20,
     "metadata": {},
     "output_type": "execute_result"
    }
   ],
   "source": [
    "array1[0::2]"
   ]
  },
  {
   "cell_type": "code",
   "execution_count": 31,
   "metadata": {},
   "outputs": [
    {
     "data": {
      "text/plain": [
       "array([[81.38648701,  3.68512343,  9.59114579, 33.16899072,  4.60297117,\n",
       "         9.44851008],\n",
       "       [16.91932144, 35.22155891,  0.29584819, 77.27270854, 97.83577469,\n",
       "        74.62311285],\n",
       "       [70.58520973, 26.45555493, 42.85206684, 33.54443846, 80.52129824,\n",
       "        62.82492808],\n",
       "       [22.67738943, 51.27468046, 31.91494969, 92.98317555, 26.80599522,\n",
       "        71.45914614]])"
      ]
     },
     "execution_count": 31,
     "metadata": {},
     "output_type": "execute_result"
    }
   ],
   "source": [
    "# Ejercicio 3\n",
    "#Crea un array 2D de forma (4, 6) con números aleatorios decimales (no deben estar comprendidos solo entre 0 y 1). \n",
    "# Accede a la última fila de la matriz. Los decimales deben estar redondeados a 2 decimales.\n",
    "\n",
    "array3 = np.random.random_sample((4, 6)) * 100 \n",
    "array3"
   ]
  },
  {
   "cell_type": "code",
   "execution_count": 33,
   "metadata": {},
   "outputs": [
    {
     "name": "stdout",
     "output_type": "stream",
     "text": [
      "[22.68 51.27 31.91 92.98 26.81 71.46]\n"
     ]
    }
   ],
   "source": [
    "decimales= np.round(array3,2)\n",
    "print(decimales[3])"
   ]
  },
  {
   "cell_type": "markdown",
   "metadata": {},
   "source": [
    "# Reshape y Transpose:\n",
    "## Ejercicios con reshape:\n",
    "Crea un array 3D de forma (2, 3, 4) con valores aleatorios entre 1 y 100 (ambos inclusive). Utiliza reshape para convertirlo en un array 2D. Deberás pensar en la forma que es correcta para hacer este cambio.\n",
    "\n",
    "Crea un array 3D de forma (3, 4, 5) con valores enteros del 1 al 61 (sin incluir). Utiliza reshape para convertirlo en un array 2D.\n",
    "\n",
    "## Ejercicios con transpose:\n",
    "Utiliza el array 3D del ejercicio 2 de reshape. Utiliza transpose para permutar los ejes y obtener un nuevo array con forma (5, 4, 3).\n",
    "\n",
    "Utiliza el array 3D del ejercicio 2 de reshape. Utiliza transpose para cambiar el orden de los ejes y obtener un nuevo array con forma (3, 5, 4)."
   ]
  },
  {
   "cell_type": "markdown",
   "metadata": {},
   "source": [
    "# Funciones Aritméticas y Estadísticas:\n",
    "\n",
    "Crea un array de tres 3D con elementos entre el 0 y 1 de forma (2, 3, 5) cuyos valores solo tengan 1 decimal.\n",
    "\n",
    "Crea un array vacío con la misma forma y dimensiones que el array creado anteriormente. Vamos a reemplazar los valores de la matriz vacía que nos acabamos de crear pero basándonos en los valores del primer array bajo las siguientes condiciones:\n",
    "\n",
    "- Si el valor del array es igual que la media, se reemplaza por \"A\".\n",
    "\n",
    "- Si el valor del array es mayor que la media, se reemplaza por \"B\".\n",
    "\n",
    "- Si el valor del array es menor que la media, se reemplaza por \"C\".\n",
    "\n",
    "- Si el valor es igual que el máximo, se reemplaza por \"D\".\n",
    "\n",
    "- Si el valor es igual que el mínimo, se reemplaza por \"E\"."
   ]
  },
  {
   "cell_type": "code",
   "execution_count": 3,
   "metadata": {},
   "outputs": [
    {
     "data": {
      "text/plain": [
       "array([[[0.84293984, 0.83249746, 0.57352934, 0.15083232, 0.71820583],\n",
       "        [0.97925695, 0.19734243, 0.20751398, 0.30485163, 0.53950355],\n",
       "        [0.16965144, 0.72475628, 0.40023523, 0.18260913, 0.24417182]],\n",
       "\n",
       "       [[0.08015758, 0.98087929, 0.55926931, 0.6044252 , 0.15225115],\n",
       "        [0.21898432, 0.65298089, 0.30282266, 0.31605266, 0.44239334],\n",
       "        [0.64532708, 0.42734654, 0.21395637, 0.40833593, 0.11361228]]])"
      ]
     },
     "execution_count": 3,
     "metadata": {},
     "output_type": "execute_result"
    }
   ],
   "source": [
    "array5 = np.random.rand(2,3,5)\n",
    "array5"
   ]
  },
  {
   "cell_type": "code",
   "execution_count": 4,
   "metadata": {},
   "outputs": [
    {
     "data": {
      "text/plain": [
       "array([[[0.8, 0.8, 0.6, 0.2, 0.7],\n",
       "        [1. , 0.2, 0.2, 0.3, 0.5],\n",
       "        [0.2, 0.7, 0.4, 0.2, 0.2]],\n",
       "\n",
       "       [[0.1, 1. , 0.6, 0.6, 0.2],\n",
       "        [0.2, 0.7, 0.3, 0.3, 0.4],\n",
       "        [0.6, 0.4, 0.2, 0.4, 0.1]]])"
      ]
     },
     "execution_count": 4,
     "metadata": {},
     "output_type": "execute_result"
    }
   ],
   "source": [
    "decimales1= np.round(array5,1)\n",
    "decimales1"
   ]
  },
  {
   "cell_type": "code",
   "execution_count": 6,
   "metadata": {},
   "outputs": [
    {
     "data": {
      "text/plain": [
       "0.43666666666666665"
      ]
     },
     "execution_count": 6,
     "metadata": {},
     "output_type": "execute_result"
    }
   ],
   "source": [
    "np.mean(decimales1)"
   ]
  },
  {
   "cell_type": "code",
   "execution_count": 5,
   "metadata": {},
   "outputs": [
    {
     "data": {
      "text/plain": [
       "array([[[0.8, 0.8, 0.6, 0.2, 0.7],\n",
       "        [1. , 0.2, 0.2, 0.3, 0.5],\n",
       "        [0.2, 0.7, 0.4, 0.2, 0.2]],\n",
       "\n",
       "       [[0.1, 1. , 0.6, 0.6, 0.2],\n",
       "        [0.2, 0.7, 0.3, 0.3, 0.4],\n",
       "        [0.6, 0.4, 0.2, 0.4, 0.1]]])"
      ]
     },
     "execution_count": 5,
     "metadata": {},
     "output_type": "execute_result"
    }
   ],
   "source": [
    "vacio = np.empty((2,3,5))\n",
    "vacio"
   ]
  },
  {
   "cell_type": "code",
   "execution_count": 10,
   "metadata": {},
   "outputs": [
    {
     "data": {
      "text/plain": [
       "1.0"
      ]
     },
     "execution_count": 10,
     "metadata": {},
     "output_type": "execute_result"
    }
   ],
   "source": [
    "max =np.max(vacio)"
   ]
  },
  {
   "cell_type": "code",
   "execution_count": 12,
   "metadata": {},
   "outputs": [],
   "source": [
    "min=np.min(vacio)"
   ]
  },
  {
   "cell_type": "code",
   "execution_count": 13,
   "metadata": {},
   "outputs": [
    {
     "data": {
      "text/plain": [
       "array([[['B', 'B', 'B', 'C', 'B'],\n",
       "        ['B', 'C', 'C', 'C', 'B'],\n",
       "        ['C', 'B', 'C', 'C', 'C']],\n",
       "\n",
       "       [['E', 'B', 'B', 'B', 'C'],\n",
       "        ['C', 'B', 'C', 'C', 'C'],\n",
       "        ['B', 'C', 'C', 'C', 'E']]], dtype='<U1')"
      ]
     },
     "execution_count": 13,
     "metadata": {},
     "output_type": "execute_result"
    }
   ],
   "source": [
    "result = np.where(vacio == 0.4366, \"A\", np.where(vacio == max, \"D\", np.where(vacio == min, \"E\", np.where(vacio > 0.4366, \"B\", \"C\"))))\n",
    "result"
   ]
  }
 ],
 "metadata": {
  "kernelspec": {
   "display_name": "base",
   "language": "python",
   "name": "python3"
  },
  "language_info": {
   "codemirror_mode": {
    "name": "ipython",
    "version": 3
   },
   "file_extension": ".py",
   "mimetype": "text/x-python",
   "name": "python",
   "nbconvert_exporter": "python",
   "pygments_lexer": "ipython3",
   "version": "3.11.9"
  }
 },
 "nbformat": 4,
 "nbformat_minor": 2
}
